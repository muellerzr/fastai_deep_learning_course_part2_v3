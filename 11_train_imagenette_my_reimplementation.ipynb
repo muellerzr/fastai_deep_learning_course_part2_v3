{
 "cells": [
  {
   "cell_type": "markdown",
   "metadata": {},
   "source": [
    "# Implementing XResNets from Scratch\n",
    "\n",
    "#### Last Time\n",
    "[Most recently](http://nbviewer.jupyter.org/github/jamesdellinger/fastai_deep_learning_course_part2_v3/blob/master/10c_fp16_my_reimplementation.ipynb?flush_cache=true), we successfully implemented a mixed-precision training loop that employs dynamic loss scaling. \n",
    "\n",
    "#### XResNets\n",
    "Here we demonstrate an extremely *concise* and readable way of implementing XResNets. In contrast to traditional ResNet implementations, that go on and on for several (possibly hundred) lines of code, our code is shockingly condensed. At the same time it is far more flexible than traditional implementations, allowing us to instantiate any depth of XResNet (18, 34, 50, 101, or 152) in just a single line of code!\n",
    "\n",
    "Introduced in the [one of my favorite papers](https://arxiv.org/abs/1812.01187), by He, Zhang, et. al., the XResNet architecture adds tweaks to the stem and residual blocks of traditional ResNet models. These improvements led to a 1% improvement in ImageNet Top-1 accuracy score (XResNet50 vs. ResNet50)."
   ]
  },
  {
   "cell_type": "markdown",
   "metadata": {},
   "source": [
    "## Setup\n",
    "As always, we're working with the [Imagenette](https://github.com/fastai/imagenette) dataset:"
   ]
  },
  {
   "cell_type": "code",
   "execution_count": 1,
   "metadata": {},
   "outputs": [],
   "source": [
    "%load_ext autoreload\n",
    "%autoreload 2\n",
    "%matplotlib inline\n",
    "%config InlineBackend.figure_format = 'retina'"
   ]
  },
  {
   "cell_type": "code",
   "execution_count": 2,
   "metadata": {},
   "outputs": [],
   "source": [
    "#export\n",
    "from exports.nb_10c import *"
   ]
  },
  {
   "cell_type": "code",
   "execution_count": 3,
   "metadata": {},
   "outputs": [],
   "source": [
    "path = datasets.untar_data(imagenette_url)\n",
    "tfms = [MakeRGB(), ResizeFixed(128), to_byte_tensor, to_float_tensor]\n",
    "bs=64\n",
    "\n",
    "data = (ImageList.from_files(path, tfms=tfms)\n",
    "        .to_split(partial(grandparent_splitter, valid_name='val'))\n",
    "        .to_label(parent_labeler, y_processor=CategoryProcessor())\n",
    "        .to_databunch(bs, channels_in=3, channels_out=10, num_workers=4))"
   ]
  },
  {
   "cell_type": "markdown",
   "metadata": {},
   "source": [
    "## XResNet"
   ]
  },
  {
   "cell_type": "code",
   "execution_count": 4,
   "metadata": {},
   "outputs": [],
   "source": [
    "#export\n",
    "def noop(x): return x\n",
    "\n",
    "class Flatten(nn.Module):\n",
    "    def forward(self, x): return x.view(x.size(0), -1)\n",
    "    \n",
    "def conv(n_in, n_out, ks=3, stride=1, bias=False):\n",
    "    return nn.Conv2d(n_in, n_out, kernel_size=ks, stride=stride, padding=ks//2, bias=bias)"
   ]
  },
  {
   "cell_type": "code",
   "execution_count": 15,
   "metadata": {},
   "outputs": [],
   "source": [
    "#export\n",
    "act_fn = nn.ReLU(inplace=True)\n",
    "\n",
    "def init_cnn(m):\n",
    "    if getattr(m, 'bias', None) is not None: nn.init.constant_(m.bias, 0)\n",
    "    if isinstance(m, (nn.Conv2d, nn.Linear)): nn.init.kaiming_normal_(m.weight)\n",
    "    for l in m.children(): init_cnn(l)\n",
    "        \n",
    "def conv_layer(n_in, n_out, ks=3, stride=1, zero_bn=False, act=True):\n",
    "    bn = nn.BatchNorm2d(n_out)\n",
    "    nn.init.constant_(bn.weight, 0. if zero_bn else 1.)\n",
    "    layers = [conv(n_in, n_out, ks, stride=stride), bn]\n",
    "    if act: layers.append(act_fn)\n",
    "    return nn.Sequential(*layers)"
   ]
  },
  {
   "cell_type": "code",
   "execution_count": 23,
   "metadata": {},
   "outputs": [],
   "source": [
    "#export\n",
    "class ResBlock(nn.Module):\n",
    "    def __init__(self, expansion, n_in, n_hidden, stride=1):\n",
    "        super().__init__()\n",
    "        n_out, n_in = n_hidden*expansion, n_in*expansion\n",
    "        layers = [conv_layer(n_in, n_hidden, 1)]\n",
    "        layers += [\n",
    "            conv_layer(n_hidden, n_out, 3, stride=stride, zero_bn=True, act=False)\n",
    "        ] if expansion == 1 else [\n",
    "            conv_layer(n_hidden, n_hidden, 3, stride=stride),\n",
    "            conv_layer(n_hidden, n_out, 1, zero_bn=True, act=False)\n",
    "        ]\n",
    "        self.convs = nn.Sequential(*layers)\n",
    "        self.idconv = noop if n_in == n_out else conv_layer(n_in, n_out, 1, act=False)\n",
    "        self.pool = noop if stride == 1 else nn.AvgPool2d(2, ceil_mode=True)\n",
    "        \n",
    "    def forward(self, x): return act_fn(self.convs(x) + self.idconv(self.pool(x)))"
   ]
  },
  {
   "cell_type": "code",
   "execution_count": 64,
   "metadata": {},
   "outputs": [],
   "source": [
    "#export\n",
    "class XResNet(nn.Sequential):\n",
    "    @classmethod\n",
    "    def create(cls, expansion, layers, channels_in=3, channels_out=1000):\n",
    "        n_outs = [channels_in, (channels_in+1)*8, 64, 64]\n",
    "        stem = [conv_layer(n_outs[i], n_outs[i+1], stride=2 if i==0 else 1)\n",
    "               for i in range(3)]\n",
    "        \n",
    "        n_outs = [64//expansion, 64, 128, 256, 512]\n",
    "        res_layers = [cls._make_layer(expansion, n_outs[i], n_outs[i+1],\n",
    "                                      n_blocks=1, stride=1 if i==0 else 2)\n",
    "                     for i, l in enumerate(layers)]\n",
    "        res = cls(*stem,\n",
    "                  nn.MaxPool2d(kernel_size=3, stride=2, padding=1),\n",
    "                  *res_layers,\n",
    "                  nn.AdaptiveAvgPool2d(1),\n",
    "                  Flatten(),\n",
    "                  nn.Linear(n_outs[-1]*expansion, channels_out)\n",
    "        )\n",
    "        init_cnn(res)\n",
    "        return res\n",
    "    \n",
    "    @staticmethod\n",
    "    def _make_layer(expansion, n_in, n_out, n_blocks, stride):\n",
    "        return nn.Sequential(\n",
    "            *[ResBlock(expansion, n_in if i==0 else n_out, n_out, stride if i==0 else 1)\n",
    "             for i in range(n_blocks)])"
   ]
  },
  {
   "cell_type": "code",
   "execution_count": 58,
   "metadata": {},
   "outputs": [],
   "source": [
    "#export\n",
    "def XResNet18 (**kwargs): return XResNet.create(1, [2, 2,  2, 2], **kwargs)\n",
    "def XResNet34 (**kwargs): return XResNet.create(1, [3, 4,  6, 3], **kwargs)\n",
    "def XResNet50 (**kwargs): return XResNet.create(4, [3, 4,  6, 3], **kwargs)\n",
    "def XResNet101(**kwargs): return XResNet.create(4, [3, 4, 23, 3], **kwargs)\n",
    "def XResNet152(**kwargs): return XResNet.create(4, [3, 8, 36, 3], **kwargs)"
   ]
  },
  {
   "cell_type": "markdown",
   "metadata": {},
   "source": [
    "## Training an XResNet18 model"
   ]
  },
  {
   "cell_type": "code",
   "execution_count": 31,
   "metadata": {},
   "outputs": [],
   "source": [
    "callback_funcs = [partial(AvgStatsCallback, accuracy),\n",
    "                  CudaCallback,\n",
    "                  ProgressBarCallback,\n",
    "                  Recorder,\n",
    "                  LR_Find,\n",
    "                  partial(BatchTransformXCallback, norm_imagenette),\n",
    "                  MixUp]\n",
    "\n",
    "loss_func = LabelSmoothingCrossEntropy()\n",
    "opt_func = adam_opt(mom=0.9, mom_sqr=0.99, eps=1e-6, wd=1e-2)"
   ]
  },
  {
   "cell_type": "code",
   "execution_count": 32,
   "metadata": {},
   "outputs": [],
   "source": [
    "arch = partial(XResNet18, c_out=10)"
   ]
  },
  {
   "cell_type": "markdown",
   "metadata": {},
   "source": [
    "Our old version of `model_summary` worked with the `Runner` class, which we've since replaced with `Learner`. We'll reimplement `model_summary` here to keep it compatible with our updated training loop:"
   ]
  },
  {
   "cell_type": "code",
   "execution_count": 34,
   "metadata": {},
   "outputs": [],
   "source": [
    "#export\n",
    "def get_batch(data_loader, learn):\n",
    "    learn.xb, learn.yb = next(iter(data_loader))\n",
    "    learn.do_begin_fit(0)\n",
    "    learn('begin_batch')\n",
    "    learn('after_fit')\n",
    "    return learn.xb, learn.yb\n",
    "\n",
    "def model_summary(model, data, find_all=False, print_model=False):\n",
    "    xb, yb = get_batch(data.valid_dl, learn)\n",
    "    modules = find_modules(model, is_lin_layer) if find_all else model.children()\n",
    "    f = lambda hook, model, input, output: print(f\"====\\n{model}\\n\" if print_model else \"\", output.shape)\n",
    "    with ForwardHooks(modules, f) as hooks: learn.model(xb)"
   ]
  },
  {
   "cell_type": "code",
   "execution_count": 35,
   "metadata": {},
   "outputs": [],
   "source": [
    "learn = Learner(arch(), data, loss_func, lr=1, callback_funcs=callback_funcs, opt_func=opt_func)"
   ]
  },
  {
   "cell_type": "code",
   "execution_count": 36,
   "metadata": {},
   "outputs": [
    {
     "data": {
      "text/html": [
       "<table border=\"1\" class=\"dataframe\">\n",
       "  <thead>\n",
       "    <tr style=\"text-align: left;\">\n",
       "      <th>epoch</th>\n",
       "      <th>train_loss</th>\n",
       "      <th>train_accuracy</th>\n",
       "      <th>valid_loss</th>\n",
       "      <th>valid_accuracy</th>\n",
       "      <th>time</th>\n",
       "    </tr>\n",
       "  </thead>\n",
       "  <tbody>\n",
       "  </tbody>\n",
       "</table>"
      ],
      "text/plain": [
       "<IPython.core.display.HTML object>"
      ]
     },
     "metadata": {},
     "output_type": "display_data"
    },
    {
     "name": "stdout",
     "output_type": "stream",
     "text": [
      " torch.Size([128, 32, 64, 64])\n",
      " torch.Size([128, 64, 64, 64])\n",
      " torch.Size([128, 64, 64, 64])\n",
      " torch.Size([128, 64, 32, 32])\n",
      " torch.Size([128, 64, 32, 32])\n",
      " torch.Size([128, 128, 16, 16])\n",
      " torch.Size([128, 256, 8, 8])\n",
      " torch.Size([128, 512, 4, 4])\n",
      " torch.Size([128, 512, 1, 1])\n",
      " torch.Size([128, 512])\n",
      " torch.Size([128, 10])\n"
     ]
    }
   ],
   "source": [
    "learn.model = learn.model.cuda()\n",
    "model_summary(learn.model, data, print_model=False)"
   ]
  },
  {
   "cell_type": "code",
   "execution_count": 37,
   "metadata": {},
   "outputs": [
    {
     "data": {
      "text/html": [
       "<table border=\"1\" class=\"dataframe\">\n",
       "  <thead>\n",
       "    <tr style=\"text-align: left;\">\n",
       "      <th>epoch</th>\n",
       "      <th>train_loss</th>\n",
       "      <th>train_accuracy</th>\n",
       "      <th>valid_loss</th>\n",
       "      <th>valid_accuracy</th>\n",
       "      <th>time</th>\n",
       "    </tr>\n",
       "  </thead>\n",
       "  <tbody>\n",
       "  </tbody>\n",
       "</table>"
      ],
      "text/plain": [
       "<IPython.core.display.HTML object>"
      ]
     },
     "metadata": {},
     "output_type": "display_data"
    }
   ],
   "source": [
    "learn.fit(2)"
   ]
  },
  {
   "cell_type": "code",
   "execution_count": 39,
   "metadata": {},
   "outputs": [
    {
     "data": {
      "image/png": "[encoded data removed]",
      "text/plain": [
       "<Figure size 432x288 with 1 Axes>"
      ]
     },
     "metadata": {
      "image/png": {
       "height": 277,
       "width": 377
      },
      "needs_background": "light"
     },
     "output_type": "display_data"
    }
   ],
   "source": [
    "learn.recorder.plot_lr()"
   ]
  },
  {
   "cell_type": "code",
   "execution_count": 40,
   "metadata": {},
   "outputs": [
    {
     "data": {
      "image/png": "[encoded data removed]",
      "text/plain": [
       "<Figure size 432x288 with 1 Axes>"
      ]
     },
     "metadata": {
      "image/png": {
       "height": 278,
       "width": 387
      },
      "needs_background": "light"
     },
     "output_type": "display_data"
    }
   ],
   "source": [
    "learn.recorder.plot(skip_last=10)"
   ]
  },
  {
   "cell_type": "code",
   "execution_count": 41,
   "metadata": {},
   "outputs": [],
   "source": [
    "callback_funcs = [partial(AvgStatsCallback, accuracy),\n",
    "                  CudaCallback,\n",
    "                  ProgressBarCallback,\n",
    "                  Recorder,\n",
    "                  partial(BatchTransformXCallback, norm_imagenette),\n",
    "                  MixUp]\n",
    "learn = Learner(arch(), data, loss_func, lr=1e-3, callback_funcs=callback_funcs, opt_func=opt_func)"
   ]
  },
  {
   "cell_type": "code",
   "execution_count": 42,
   "metadata": {},
   "outputs": [
    {
     "data": {
      "text/html": [
       "<table border=\"1\" class=\"dataframe\">\n",
       "  <thead>\n",
       "    <tr style=\"text-align: left;\">\n",
       "      <th>epoch</th>\n",
       "      <th>train_loss</th>\n",
       "      <th>train_accuracy</th>\n",
       "      <th>valid_loss</th>\n",
       "      <th>valid_accuracy</th>\n",
       "      <th>time</th>\n",
       "    </tr>\n",
       "  </thead>\n",
       "  <tbody>\n",
       "    <tr>\n",
       "      <td>0</td>\n",
       "      <td>1.950578</td>\n",
       "      <td>0.432294</td>\n",
       "      <td>1.627545</td>\n",
       "      <td>0.540000</td>\n",
       "      <td>00:46</td>\n",
       "    </tr>\n",
       "    <tr>\n",
       "      <td>1</td>\n",
       "      <td>1.738268</td>\n",
       "      <td>0.571506</td>\n",
       "      <td>1.395509</td>\n",
       "      <td>0.648000</td>\n",
       "      <td>00:47</td>\n",
       "    </tr>\n",
       "    <tr>\n",
       "      <td>2</td>\n",
       "      <td>1.619803</td>\n",
       "      <td>0.646347</td>\n",
       "      <td>1.378325</td>\n",
       "      <td>0.632000</td>\n",
       "      <td>00:47</td>\n",
       "    </tr>\n",
       "    <tr>\n",
       "      <td>3</td>\n",
       "      <td>1.549181</td>\n",
       "      <td>0.690942</td>\n",
       "      <td>1.184395</td>\n",
       "      <td>0.748000</td>\n",
       "      <td>00:47</td>\n",
       "    </tr>\n",
       "    <tr>\n",
       "      <td>4</td>\n",
       "      <td>1.496616</td>\n",
       "      <td>0.719017</td>\n",
       "      <td>1.289732</td>\n",
       "      <td>0.682000</td>\n",
       "      <td>00:47</td>\n",
       "    </tr>\n",
       "    <tr>\n",
       "      <td>5</td>\n",
       "      <td>1.454728</td>\n",
       "      <td>0.750271</td>\n",
       "      <td>1.112759</td>\n",
       "      <td>0.766000</td>\n",
       "      <td>00:47</td>\n",
       "    </tr>\n",
       "    <tr>\n",
       "      <td>6</td>\n",
       "      <td>1.425953</td>\n",
       "      <td>0.771832</td>\n",
       "      <td>1.164534</td>\n",
       "      <td>0.750000</td>\n",
       "      <td>00:47</td>\n",
       "    </tr>\n",
       "    <tr>\n",
       "      <td>7</td>\n",
       "      <td>1.391753</td>\n",
       "      <td>0.795409</td>\n",
       "      <td>1.018245</td>\n",
       "      <td>0.828000</td>\n",
       "      <td>00:47</td>\n",
       "    </tr>\n",
       "  </tbody>\n",
       "</table>"
      ],
      "text/plain": [
       "<IPython.core.display.HTML object>"
      ]
     },
     "metadata": {},
     "output_type": "display_data"
    }
   ],
   "source": [
    "learn.fit(8)"
   ]
  },
  {
   "cell_type": "markdown",
   "metadata": {},
   "source": [
    "## Training an XResNet34 model\n",
    "We'll use train our XResNet34 model with under a one-cycle cyclical learning rate regime. Here's a helper function to make it easier to specify the warm-up and annealing phases:"
   ]
  },
  {
   "cell_type": "code",
   "execution_count": 59,
   "metadata": {},
   "outputs": [],
   "source": [
    "#export\n",
    "def create_phases(phases):\n",
    "    phases = listify(phases)\n",
    "    return phases + [1 - sum(phases)]"
   ]
  },
  {
   "cell_type": "code",
   "execution_count": 60,
   "metadata": {},
   "outputs": [
    {
     "name": "stdout",
     "output_type": "stream",
     "text": [
      "[0.3, 0.7]\n",
      "[0.3, 0.2, 0.5]\n"
     ]
    }
   ],
   "source": [
    "print(create_phases(0.3))\n",
    "print(create_phases([0.3, 0.2]))"
   ]
  },
  {
   "cell_type": "markdown",
   "metadata": {},
   "source": [
    "We'll also use discriminative learning rate and momentum schedules for three parameter groups:"
   ]
  },
  {
   "cell_type": "code",
   "execution_count": 61,
   "metadata": {},
   "outputs": [],
   "source": [
    "lr = 1e-3\n",
    "pct_start = 0.5\n",
    "phases = create_phases(pct_start)\n",
    "sched_lr = combine_scheds(phases, cos_1cycle_anneal(lr/10., lr, lr/1e5))\n",
    "sched_mom = combine_scheds(phases, cos_1cycle_anneal(0.95, 0.85, 0.95))\n",
    "schedules = [ParamScheduler('lr', sched_lr), ParamScheduler('mom', sched_mom)]"
   ]
  },
  {
   "cell_type": "markdown",
   "metadata": {},
   "source": [
    "#### cnn_learner\n",
    "While we're at it, we can create another convenience method to help us have an easier time setting up `Learner()` objects for CNN models:"
   ]
  },
  {
   "cell_type": "code",
   "execution_count": 65,
   "metadata": {},
   "outputs": [],
   "source": [
    "#export\n",
    "def cnn_learner(arch, data, loss_func, opt_func, channels_in=None, channels_out=None,\n",
    "                lr=1e-3, cuda=True, batchnorm=None, progress_bar=True, mixup=0, \n",
    "                extra_callbacks=None, **kwargs):\n",
    "    callback_funcs = [partial(AvgStatsCallback, accuracy), Recorder] + listify(extra_callbacks)\n",
    "    if progress_bar: callback_funcs.append(ProgressBarCallback)\n",
    "    if cuda: callback_funcs.append(CudaCallback)\n",
    "    if batchnorm: callback_funcs.append(partial(BatchTransformXCallback, batchnorm))\n",
    "    if mixup: callback_funcs.append(partial(MixUp, mixup))\n",
    "    arch_args = {}\n",
    "    if not channels_in : channels_in  = data.channels_in\n",
    "    if not channels_out: channels_out = data.channels_out\n",
    "    if channels_in:  arch_args['channels_in' ] = channels_in\n",
    "    if channels_out: arch_args['channels_out'] = channels_out\n",
    "    return Learner(arch(**arch_args), data, loss_func, opt_func=opt_func, callback_funcs=callback_funcs, **kwargs)\n",
    "    "
   ]
  },
  {
   "cell_type": "code",
   "execution_count": 67,
   "metadata": {},
   "outputs": [],
   "source": [
    "learn = cnn_learner(XResNet34, data, loss_func, lr=lr, opt_func=opt_func, batchnorm=norm_imagenette, mixup=0.4)"
   ]
  },
  {
   "cell_type": "code",
   "execution_count": 68,
   "metadata": {},
   "outputs": [
    {
     "data": {
      "text/html": [
       "<table border=\"1\" class=\"dataframe\">\n",
       "  <thead>\n",
       "    <tr style=\"text-align: left;\">\n",
       "      <th>epoch</th>\n",
       "      <th>train_loss</th>\n",
       "      <th>train_accuracy</th>\n",
       "      <th>valid_loss</th>\n",
       "      <th>valid_accuracy</th>\n",
       "      <th>time</th>\n",
       "    </tr>\n",
       "  </thead>\n",
       "  <tbody>\n",
       "    <tr>\n",
       "      <td>0</td>\n",
       "      <td>2.055462</td>\n",
       "      <td>0.351714</td>\n",
       "      <td>1.716005</td>\n",
       "      <td>0.496000</td>\n",
       "      <td>00:47</td>\n",
       "    </tr>\n",
       "    <tr>\n",
       "      <td>1</td>\n",
       "      <td>1.866230</td>\n",
       "      <td>0.492555</td>\n",
       "      <td>1.601209</td>\n",
       "      <td>0.546000</td>\n",
       "      <td>00:47</td>\n",
       "    </tr>\n",
       "    <tr>\n",
       "      <td>2</td>\n",
       "      <td>1.756930</td>\n",
       "      <td>0.558011</td>\n",
       "      <td>1.458063</td>\n",
       "      <td>0.600000</td>\n",
       "      <td>00:47</td>\n",
       "    </tr>\n",
       "    <tr>\n",
       "      <td>3</td>\n",
       "      <td>1.674444</td>\n",
       "      <td>0.610361</td>\n",
       "      <td>1.309200</td>\n",
       "      <td>0.684000</td>\n",
       "      <td>00:47</td>\n",
       "    </tr>\n",
       "    <tr>\n",
       "      <td>4</td>\n",
       "      <td>1.597408</td>\n",
       "      <td>0.662168</td>\n",
       "      <td>1.204454</td>\n",
       "      <td>0.742000</td>\n",
       "      <td>00:47</td>\n",
       "    </tr>\n",
       "    <tr>\n",
       "      <td>5</td>\n",
       "      <td>1.507829</td>\n",
       "      <td>0.718396</td>\n",
       "      <td>1.115946</td>\n",
       "      <td>0.764000</td>\n",
       "      <td>00:47</td>\n",
       "    </tr>\n",
       "    <tr>\n",
       "      <td>6</td>\n",
       "      <td>1.441304</td>\n",
       "      <td>0.760199</td>\n",
       "      <td>1.034460</td>\n",
       "      <td>0.810000</td>\n",
       "      <td>00:47</td>\n",
       "    </tr>\n",
       "    <tr>\n",
       "      <td>7</td>\n",
       "      <td>1.387004</td>\n",
       "      <td>0.796727</td>\n",
       "      <td>1.005181</td>\n",
       "      <td>0.822000</td>\n",
       "      <td>00:47</td>\n",
       "    </tr>\n",
       "  </tbody>\n",
       "</table>"
      ],
      "text/plain": [
       "<IPython.core.display.HTML object>"
      ]
     },
     "metadata": {},
     "output_type": "display_data"
    }
   ],
   "source": [
    "learn.fit(8, schedules)"
   ]
  },
  {
   "cell_type": "markdown",
   "metadata": {},
   "source": [
    "Not bad -- we got to greater than 80% validation accuracy after only 8 epochs. What's more, we can attempt to use any flavor of XResNet we might desire (18, 34, 50, 101, or 152) by specifying this in a single line of code. The flexibility of this implementation is quite impressive!"
   ]
  },
  {
   "cell_type": "markdown",
   "metadata": {},
   "source": [
    "## Export"
   ]
  },
  {
   "cell_type": "code",
   "execution_count": 69,
   "metadata": {},
   "outputs": [
    {
     "data": {
      "application/javascript": [
       "{\n",
       "const ip = IPython.notebook\n",
       "if (ip) {\n",
       "    ip.save_notebook()\n",
       "    console.log('a')\n",
       "    const s = `!python notebook2script_my_reimplementation.py ${ip.notebook_name}`\n",
       "    if (ip.kernel) { ip.kernel.execute(s) }\n",
       "}\n",
       "}"
      ],
      "text/plain": [
       "<IPython.core.display.Javascript object>"
      ]
     },
     "metadata": {},
     "output_type": "display_data"
    }
   ],
   "source": [
    "nb_auto_export()"
   ]
  }
 ],
 "metadata": {
  "kernelspec": {
   "display_name": "Python 3",
   "language": "python",
   "name": "python3"
  },
  "language_info": {
   "codemirror_mode": {
    "name": "ipython",
    "version": 3
   },
   "file_extension": ".py",
   "mimetype": "text/x-python",
   "name": "python",
   "nbconvert_exporter": "python",
   "pygments_lexer": "ipython3",
   "version": "3.7.1"
  }
 },
 "nbformat": 4,
 "nbformat_minor": 2
}
